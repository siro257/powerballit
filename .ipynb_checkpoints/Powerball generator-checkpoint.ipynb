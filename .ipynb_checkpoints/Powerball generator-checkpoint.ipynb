{
 "cells": [
  {
   "cell_type": "markdown",
   "metadata": {},
   "source": [
    "How to play:\n",
    "\n",
    "<br>Pick five unique numbers between 1 - 69 (number ball)\n",
    "<br>Pick one number between 1 - 26 (power ball)\n",
    "\n"
   ]
  },
  {
   "cell_type": "code",
   "execution_count": 1,
   "metadata": {},
   "outputs": [
    {
     "data": {
      "text/plain": [
       "8.89797431386163e-08"
      ]
     },
     "execution_count": 1,
     "metadata": {},
     "output_type": "execute_result"
    }
   ],
   "source": [
    "import numpy as np\n",
    "\n",
    "# top prize probability\n",
    "prob_top = np.math.factorial(69) / ((np.math.factorial(5) * (np.math.factorial(69-5))))\n",
    "\n",
    "prob_sec = np.math.factorial(69) / ((np.math.factorial(4) * (np.math.factorial(69-4))))\n",
    "\n",
    "1/prob_top"
   ]
  },
  {
   "cell_type": "markdown",
   "metadata": {},
   "source": [
    "### Top Prize prob - 5 numbers and 1 power ball\n",
    "Number balls:<br>\n",
    "<br>\n",
    "\\begin{equation*}\n",
    "\\frac{69!}{5!(69-5)!} = \\frac{69 \\cdot 68 \\cdot 67 \\cdot 66 \\cdot 65 \\cdot 64!}{5 \\cdot 4 \\cdot 3 \\cdot 2 \\cdot 1 \\cdot 64!} = \\frac{69 \\cdot 68 \\cdot 67 \\cdot 66 \\cdot 65}{5 \\cdot 4 \\cdot 3 \\cdot 2 \\cdot 1} = \\frac{1,348,621,560}{120} = 11,238,513\n",
    "\\end{equation*}\n",
    "<br>\n",
    "<br>\n",
    "There are 11,238,513 different ways to pick 5 unique number from 69 unique numbers.\n",
    "\n",
    "<br>Power ball:\n",
    "\\begin{equation*}\n",
    "\\frac{26!}{1!(26-1)!} = \\frac{26 \\cdot 25!}{1 \\cdot 25!} = 26\n",
    "\\end{equation*}\n",
    "\n",
    "So, there are 26 different ways to pick 1 unique number from 26 unique numbers.\n",
    "<br>\n",
    "<br>\n",
    "\\begin{equation*}\n",
    "\\frac{1}{11,238,513} \\cdot \\frac{1}{26} = \\frac{1}{292,201,338} \\approx 3.4223 E{-9} = 0.00000034223 \\%\n",
    "\\end{equation*}"
   ]
  },
  {
   "cell_type": "markdown",
   "metadata": {},
   "source": [
    "### Second Prize - 5 numbers\n",
    "\\begin{equation*}\n",
    "\\frac{1}{11,238,513} \\approx 8.8980E{-8} = 0.000008898\\%\n",
    "\\end{equation*}"
   ]
  },
  {
   "cell_type": "markdown",
   "metadata": {},
   "source": []
  },
  {
   "cell_type": "code",
   "execution_count": 2,
   "metadata": {},
   "outputs": [
    {
     "name": "stdout",
     "output_type": "stream",
     "text": [
      "How many Powerball number would you like to generate? 20\n",
      "1 [7, 25, 33, 42, 56, 19]\n",
      "2 [10, 38, 39, 41, 47, 12]\n",
      "3 [5, 10, 34, 50, 66, 8]\n",
      "4 [1, 9, 25, 41, 56, 10]\n",
      "5 [4, 41, 49, 54, 64, 12]\n",
      "6 [1, 4, 9, 27, 57, 25]\n",
      "7 [8, 34, 48, 68, 69, 7]\n",
      "8 [9, 16, 48, 57, 68, 2]\n",
      "9 [3, 27, 30, 36, 39, 16]\n",
      "10 [15, 18, 41, 53, 68, 9]\n",
      "11 [13, 15, 23, 48, 51, 14]\n",
      "12 [6, 9, 47, 54, 67, 19]\n",
      "13 [6, 17, 18, 30, 39, 14]\n",
      "14 [1, 4, 5, 10, 50, 3]\n",
      "15 [2, 6, 28, 32, 42, 6]\n",
      "16 [21, 24, 32, 62, 67, 12]\n",
      "17 [18, 20, 38, 57, 61, 4]\n",
      "18 [15, 25, 33, 41, 45, 12]\n",
      "19 [19, 21, 38, 49, 54, 15]\n",
      "20 [3, 26, 42, 65, 66, 9]\n"
     ]
    }
   ],
   "source": [
    "import random\n",
    "\n",
    "def generate_powerball(n):\n",
    "    res = []\n",
    "    for i in range(1, n+1):\n",
    "        lis1 = list(range(1,70))\n",
    "        ar = []\n",
    "        for j in range(1,6):\n",
    "            indx = random.randrange(0, len(lis1))\n",
    "            tmp = lis1[indx]\n",
    "            ar.append(tmp)\n",
    "            lis1.remove(tmp)\n",
    "        ar = sorted(ar)\n",
    "        pb = random.randint(1, 26)\n",
    "        ar.append(pb)\n",
    "        res.append(ar)\n",
    "        \n",
    "    for idx, val in enumerate(res):\n",
    "        print(f'{idx+1} {val}')\n",
    "\n",
    "\n",
    "n = int(input('How many Powerball number would you like to generate? '))\n",
    "\n",
    "generate_powerball(n)"
   ]
  }
 ],
 "metadata": {
  "kernelspec": {
   "display_name": "Python 3",
   "language": "python",
   "name": "python3"
  },
  "language_info": {
   "codemirror_mode": {
    "name": "ipython",
    "version": 3
   },
   "file_extension": ".py",
   "mimetype": "text/x-python",
   "name": "python",
   "nbconvert_exporter": "python",
   "pygments_lexer": "ipython3",
   "version": "3.7.0"
  }
 },
 "nbformat": 4,
 "nbformat_minor": 4
}
